{
 "cells": [
  {
   "cell_type": "code",
   "execution_count": 1,
   "id": "a170c61e-0447-4e74-916e-473e703636bc",
   "metadata": {},
   "outputs": [],
   "source": [
    "import mlflow\n",
    "import warnings\n",
    "from sklearn.datasets import load_diabetes\n",
    "from sklearn.model_selection import train_test_split\n",
    "from sklearn.ensemble import RandomForestRegressor\n",
    "from sklearn.metrics import mean_squared_error"
   ]
  },
  {
   "cell_type": "code",
   "execution_count": null,
   "id": "3036252b-0e25-4522-86da-77eb0984bb90",
   "metadata": {},
   "outputs": [],
   "source": [
    "warnings.filterwarnings(\"ignore\")"
   ]
  },
  {
   "cell_type": "code",
   "execution_count": 2,
   "id": "16f6eb7f-82a1-4871-945d-a83730634817",
   "metadata": {},
   "outputs": [],
   "source": [
    "mlflow.set_tracking_uri('http://mlflow_server:5000')"
   ]
  },
  {
   "cell_type": "code",
   "execution_count": 3,
   "id": "c2b89812-1735-4fa5-a385-982b3ecd8352",
   "metadata": {},
   "outputs": [
    {
     "name": "stderr",
     "output_type": "stream",
     "text": [
      "2024/02/26 02:00:29 INFO mlflow.tracking.fluent: Experiment with name 'experiment_20022024' does not exist. Creating a new experiment.\n"
     ]
    },
    {
     "data": {
      "text/plain": [
       "<Experiment: artifact_location='s3://mlflow/1', creation_time=1708912829637, experiment_id='1', last_update_time=1708912829637, lifecycle_stage='active', name='experiment_20022024', tags={}>"
      ]
     },
     "execution_count": 3,
     "metadata": {},
     "output_type": "execute_result"
    }
   ],
   "source": [
    "experiment_name = \"experiment_20022024\"\n",
    "mlflow.set_experiment(experiment_name)"
   ]
  },
  {
   "cell_type": "code",
   "execution_count": 4,
   "id": "80f4f411-6804-4a5f-85ee-a5d596f86d1a",
   "metadata": {
    "tags": []
   },
   "outputs": [
    {
     "name": "stderr",
     "output_type": "stream",
     "text": [
      "2024/02/26 02:00:36 INFO mlflow.tracking.fluent: Autologging successfully enabled for sklearn.\n",
      "2024/02/26 02:00:36 WARNING mlflow.spark: With Pyspark >= 3.2, PYSPARK_PIN_THREAD environment variable must be set to false for Spark datasource autologging to work.\n",
      "2024/02/26 02:00:36 INFO mlflow.tracking.fluent: Autologging successfully enabled for pyspark.\n",
      "2024/02/26 02:00:36 INFO mlflow.utils.autologging_utils: Created MLflow autologging run with ID 'a60ad6afeb5842dcb48a7e13951b3680', which will track hyperparameters, performance metrics, model artifacts, and lineage information for the current sklearn workflow\n",
      "2024/02/26 02:00:39 WARNING mlflow.utils.autologging_utils: MLflow autologging encountered a warning: \"/opt/conda/lib/python3.9/site-packages/_distutils_hack/__init__.py:33: UserWarning: Setuptools is replacing distutils.\"\n"
     ]
    }
   ],
   "source": [
    "import mlflow\n",
    "\n",
    "from sklearn.model_selection import train_test_split\n",
    "from sklearn.datasets import load_diabetes\n",
    "from sklearn.ensemble import RandomForestRegressor\n",
    "\n",
    "mlflow.autolog()\n",
    "\n",
    "db = load_diabetes()\n",
    "X_train, X_test, y_train, y_test = train_test_split(db.data, db.target)\n",
    "\n",
    "# Create and train models.\n",
    "rf = RandomForestRegressor(n_estimators=100, max_depth=6, max_features=3)\n",
    "rf.fit(X_train, y_train)\n",
    "\n",
    "# Use the model to make predictions on the test dataset.\n",
    "predictions = rf.predict(X_test)"
   ]
  },
  {
   "cell_type": "code",
   "execution_count": 8,
   "id": "5bf07270-ba84-413c-be90-91c95871c79c",
   "metadata": {},
   "outputs": [],
   "source": [
    "model_uri = \"s3://mlflow/1/a60ad6afeb5842dcb48a7e13951b3680/artifacts/model\""
   ]
  },
  {
   "cell_type": "code",
   "execution_count": 9,
   "id": "e487d4fd-4a1e-4412-ae4b-6fdd372c8073",
   "metadata": {},
   "outputs": [
    {
     "data": {
      "application/vnd.jupyter.widget-view+json": {
       "model_id": "4e251ba8690b43788394a424d398f823",
       "version_major": 2,
       "version_minor": 0
      },
      "text/plain": [
       "Downloading artifacts:   0%|          | 0/5 [00:00<?, ?it/s]"
      ]
     },
     "metadata": {},
     "output_type": "display_data"
    }
   ],
   "source": [
    "loaded_model = mlflow.sklearn.load_model(model_uri)"
   ]
  },
  {
   "cell_type": "code",
   "execution_count": 10,
   "id": "de8dcb41-d882-44f7-8916-d7f85f6445a6",
   "metadata": {},
   "outputs": [],
   "source": [
    "# Dự đoán kết quả trên dữ liệu kiểm tra\n",
    "test_predictions = loaded_model.predict(X_test)"
   ]
  },
  {
   "cell_type": "code",
   "execution_count": 14,
   "id": "3c35d4ab-d282-4bea-868e-52932a27daee",
   "metadata": {},
   "outputs": [
    {
     "name": "stdout",
     "output_type": "stream",
     "text": [
      "Mean Squared Error: 3660.447937494035\n"
     ]
    }
   ],
   "source": [
    "mse = mean_squared_error(y_test, test_predictions)\n",
    "print(\"Mean Squared Error:\", mse)"
   ]
  },
  {
   "cell_type": "code",
   "execution_count": 16,
   "id": "bd95bb9a-d874-4904-9ab4-25519afb4b66",
   "metadata": {},
   "outputs": [
    {
     "name": "stdout",
     "output_type": "stream",
     "text": [
      "[129.29155859 199.26318865 250.98925526 205.67520092 110.94128226\n",
      " 166.99542777 149.64750734 154.45523953 169.70996383 186.97279056\n",
      " 171.05316543 216.13147621  89.30120242 158.18858027  85.24308098\n",
      "  93.18991597  95.17296339 125.80467753 188.56381516 239.26549901\n",
      " 189.08586743 247.55554233 162.27093154 218.50519436  86.18860621\n",
      "  94.66293069 101.0302197  125.55481498 185.43456551 241.50243788\n",
      " 230.08836007 102.61070626  87.07791928 198.31568511 214.20388474\n",
      " 211.31102064 151.54520742  84.08293632 102.42451635 124.7360402\n",
      " 219.50350731 191.13115069 148.61157992 116.09699084 107.46534935\n",
      " 118.08506024 153.0475138   82.32052008 221.03454586 231.93544572\n",
      "  98.26654573 172.08019665 114.17273992 105.72338831 205.85979942\n",
      " 123.89847568  98.88724083 224.19025841 173.34392192 198.09779947\n",
      " 180.24898833  88.87664513 181.98251691 190.92629006  93.18924975\n",
      " 120.22982819 111.32184991 107.69349469 206.21898144 187.17864796\n",
      " 166.90247609 175.47530461 144.63759964 171.40120223 139.13186433\n",
      " 166.24382891  81.00536792  85.0616457   87.48232873 158.45855199\n",
      " 250.71182065 125.77130734 115.27225129 185.73814644  89.43453948\n",
      " 141.05350815 136.61915904 131.00229002  95.01135088 160.88536251\n",
      " 103.70875716 172.28881819 123.09543623  93.42508596 223.24816304\n",
      " 136.83170389 110.97376943 100.95699181 157.00722395  90.77657426\n",
      " 201.16102251 138.92724141 191.82021411 110.14379809 203.26389302\n",
      " 100.62349268 110.04371559 208.07853727 117.92467747 196.85104073\n",
      " 205.11986887]\n"
     ]
    }
   ],
   "source": [
    "print(test_predictions)"
   ]
  },
  {
   "cell_type": "code",
   "execution_count": null,
   "id": "3d2bbd54-3046-4f4f-8f79-57853f10e668",
   "metadata": {},
   "outputs": [],
   "source": []
  }
 ],
 "metadata": {
  "kernelspec": {
   "display_name": "Python 3 (ipykernel)",
   "language": "python",
   "name": "python3"
  },
  "language_info": {
   "codemirror_mode": {
    "name": "ipython",
    "version": 3
   },
   "file_extension": ".py",
   "mimetype": "text/x-python",
   "name": "python",
   "nbconvert_exporter": "python",
   "pygments_lexer": "ipython3",
   "version": "3.9.13"
  }
 },
 "nbformat": 4,
 "nbformat_minor": 5
}

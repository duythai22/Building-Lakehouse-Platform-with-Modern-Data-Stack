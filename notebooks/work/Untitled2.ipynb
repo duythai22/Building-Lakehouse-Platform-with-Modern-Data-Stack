{
 "cells": [
  {
   "cell_type": "code",
   "execution_count": 1,
   "id": "a170c61e-0447-4e74-916e-473e703636bc",
   "metadata": {},
   "outputs": [],
   "source": [
    "import mlflow\n",
    "import warnings\n",
    "from sklearn.model_selection import train_test_split\n",
    "from sklearn.metrics import confusion_matrix, classification_report\n",
    "from sklearn.feature_extraction.text import TfidfVectorizer\n",
    "from sklearn.linear_model import LogisticRegression\n",
    "from sklearn import metrics\n",
    "from sklearn.ensemble import RandomForestClassifier\n",
    "pd.set_option(\"display.max_colwidth\", None)"
   ]
  },
  {
   "cell_type": "code",
   "execution_count": 2,
   "id": "3036252b-0e25-4522-86da-77eb0984bb90",
   "metadata": {},
   "outputs": [],
   "source": [
    "warnings.filterwarnings(\"ignore\")"
   ]
  },
  {
   "cell_type": "code",
   "execution_count": 3,
   "id": "16f6eb7f-82a1-4871-945d-a83730634817",
   "metadata": {},
   "outputs": [],
   "source": [
    "mlflow.set_tracking_uri('http://mlflow_server:5000')"
   ]
  },
  {
   "cell_type": "code",
   "execution_count": 4,
   "id": "c2b89812-1735-4fa5-a385-982b3ecd8352",
   "metadata": {},
   "outputs": [
    {
     "name": "stderr",
     "output_type": "stream",
     "text": [
      "2024/03/07 02:28:55 INFO mlflow.tracking.fluent: Experiment with name 'experiment_0703' does not exist. Creating a new experiment.\n"
     ]
    },
    {
     "data": {
      "text/plain": [
       "<Experiment: artifact_location='s3://mlflow/3', creation_time=1709778535744, experiment_id='3', last_update_time=1709778535744, lifecycle_stage='active', name='experiment_0703', tags={}>"
      ]
     },
     "execution_count": 4,
     "metadata": {},
     "output_type": "execute_result"
    }
   ],
   "source": [
    "experiment_name = \"experiment_0703\"\n",
    "mlflow.set_experiment(experiment_name)"
   ]
  },
  {
   "cell_type": "code",
   "execution_count": 5,
   "id": "80f4f411-6804-4a5f-85ee-a5d596f86d1a",
   "metadata": {
    "tags": []
   },
   "outputs": [
    {
     "name": "stdout",
     "output_type": "stream",
     "text": [
      "Best Parameters: {'logisticregression__C': 10, 'logisticregression__penalty': 'l1'}\n",
      "Best Score: 0.9666666666666668\n"
     ]
    }
   ],
   "source": [
    "iris = load_iris()\n",
    "X, y = iris.data, iris.target\n",
    "\n",
    "# Create a pipeline with scaler and logistic regression\n",
    "pipe = make_pipeline(StandardScaler(), LogisticRegression(max_iter=1000, solver='saga', tol=0.1))\n",
    "\n",
    "# Create a parameter grid\n",
    "param_grid = {\n",
    "    'logisticregression__C': [0.1, 1, 10, 100],\n",
    "    'logisticregression__penalty': ['l1', 'l2']\n",
    "}\n",
    "\n",
    "# Start an MLflow run\n",
    "with mlflow.start_run():\n",
    "    # Log parameters\n",
    "    for key, value in param_grid.items():\n",
    "        mlflow.log_param(key, value)\n",
    "\n",
    "    # Create GridSearchCV object\n",
    "    grid_search = GridSearchCV(pipe, param_grid, cv=5)\n",
    "\n",
    "    # Fit the model\n",
    "    grid_search.fit(X, y)\n",
    "\n",
    "    # Log metrics\n",
    "    mlflow.log_metric(\"best_score\", grid_search.best_score_)\n",
    "\n",
    "    # Log artifacts (optional)\n",
    "    # You can log the entire pipeline or specific components as artifacts\n",
    "    # mlflow.log_artifact(\"pipeline\", grid_search)\n",
    "\n",
    "# Print best parameters and best score\n",
    "print(\"Best Parameters:\", grid_search.best_params_)\n",
    "print(\"Best Score:\", grid_search.best_score_)"
   ]
  },
  {
   "cell_type": "code",
   "execution_count": 6,
   "id": "5bf07270-ba84-413c-be90-91c95871c79c",
   "metadata": {},
   "outputs": [],
   "source": [
    "model_uri = \"s3://mlflow/1/a60ad6afeb5842dcb48a7e13951b3680/artifacts/model\""
   ]
  },
  {
   "cell_type": "code",
   "execution_count": 7,
   "id": "e487d4fd-4a1e-4412-ae4b-6fdd372c8073",
   "metadata": {},
   "outputs": [
    {
     "data": {
      "application/vnd.jupyter.widget-view+json": {
       "model_id": "02e4f791730249e2b14010d01243ada4",
       "version_major": 2,
       "version_minor": 0
      },
      "text/plain": [
       "Downloading artifacts:   0%|          | 0/5 [00:00<?, ?it/s]"
      ]
     },
     "metadata": {},
     "output_type": "display_data"
    }
   ],
   "source": [
    "loaded_model = mlflow.sklearn.load_model(model_uri)"
   ]
  },
  {
   "cell_type": "code",
   "execution_count": 8,
   "id": "de8dcb41-d882-44f7-8916-d7f85f6445a6",
   "metadata": {},
   "outputs": [],
   "source": [
    "# Dự đoán kết quả trên dữ liệu kiểm tra\n",
    "test_predictions = loaded_model.predict(X_test)"
   ]
  },
  {
   "cell_type": "code",
   "execution_count": 9,
   "id": "3c35d4ab-d282-4bea-868e-52932a27daee",
   "metadata": {},
   "outputs": [
    {
     "name": "stdout",
     "output_type": "stream",
     "text": [
      "Mean Squared Error: 1428.8457919914154\n"
     ]
    }
   ],
   "source": [
    "mse = mean_squared_error(y_test, test_predictions)\n",
    "print(\"Mean Squared Error:\", mse)"
   ]
  },
  {
   "cell_type": "code",
   "execution_count": 10,
   "id": "bd95bb9a-d874-4904-9ab4-25519afb4b66",
   "metadata": {},
   "outputs": [
    {
     "name": "stdout",
     "output_type": "stream",
     "text": [
      "[ 97.00699632 110.4119345   94.17331421 172.77737944 234.29266845\n",
      " 186.49536149 123.09543623 174.36436919 149.64855082 115.89607371\n",
      " 247.20749627 193.16471559  86.72628131 185.7945213  158.50290963\n",
      " 172.28881819  86.40263616 127.52234933 203.24151615  90.77657426\n",
      " 123.28985689 198.72188837  96.73419144 113.97320873 150.6225939\n",
      " 144.63759964 106.50364981  90.620809   147.57741153 201.18812088\n",
      " 239.45462339 149.64750734 244.33277579  91.90940522 114.85544118\n",
      " 147.74624541  74.04772248 203.71872202 186.40164801  86.18860621\n",
      " 221.03454586 108.9273607  264.33408548 229.93777838 131.00229002\n",
      "  87.07791928 203.65578512  81.83060373 152.90609132 237.52312131\n",
      " 192.5976787   86.659937    95.01135088 157.71624739 170.58348886\n",
      " 195.92481051 164.30640852 122.68631944 158.45855199  94.39694853\n",
      "  87.75841596  92.94701831 105.47277793 138.63009959 179.04756904\n",
      " 243.88252513 148.4077205  169.67312392 203.08706777 215.64540266\n",
      " 124.88985063 195.3315935  175.30013228 153.0475138   83.84184017\n",
      " 156.12091014 198.17125695 181.78837241  86.61992376  85.24308098\n",
      "  98.56729238  95.17296339  84.08293632  85.0616457   94.66293069\n",
      " 181.31715873 125.80467753 110.97376943 187.79107786 177.25351929\n",
      " 196.22007776 104.97796393  87.7481618   96.44563636 162.0243097\n",
      " 238.44420937 227.56290435 101.24811736 146.15792906 154.6369277\n",
      " 135.62177384 168.27843134 217.23684588  90.64197937 119.94286489\n",
      " 244.42556691 141.89966259  76.25491321 198.31568511  97.88478932\n",
      " 103.70875716]\n"
     ]
    }
   ],
   "source": [
    "print(test_predictions)"
   ]
  },
  {
   "cell_type": "code",
   "execution_count": null,
   "id": "3d2bbd54-3046-4f4f-8f79-57853f10e668",
   "metadata": {},
   "outputs": [],
   "source": []
  }
 ],
 "metadata": {
  "kernelspec": {
   "display_name": "Python 3 (ipykernel)",
   "language": "python",
   "name": "python3"
  },
  "language_info": {
   "codemirror_mode": {
    "name": "ipython",
    "version": 3
   },
   "file_extension": ".py",
   "mimetype": "text/x-python",
   "name": "python",
   "nbconvert_exporter": "python",
   "pygments_lexer": "ipython3",
   "version": "3.9.13"
  }
 },
 "nbformat": 4,
 "nbformat_minor": 5
}
